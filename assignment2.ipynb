{
  "nbformat": 4,
  "nbformat_minor": 0,
  "metadata": {
    "colab": {
      "provenance": [],
      "authorship_tag": "ABX9TyOgDPfGI41elwpOKyoVH41f",
      "include_colab_link": true
    },
    "kernelspec": {
      "name": "python3",
      "display_name": "Python 3"
    },
    "language_info": {
      "name": "python"
    }
  },
  "cells": [
    {
      "cell_type": "markdown",
      "metadata": {
        "id": "view-in-github",
        "colab_type": "text"
      },
      "source": [
        "<a href=\"https://colab.research.google.com/github/bixmasiddiqui/assignment-02/blob/main/assignment2.ipynb\" target=\"_parent\"><img src=\"https://colab.research.google.com/assets/colab-badge.svg\" alt=\"Open In Colab\"/></a>"
      ]
    },
    {
      "cell_type": "markdown",
      "source": [
        "CALCULATOR:\n",
        "In[]:\n",
        "#Taking input\n"
      ],
      "metadata": {
        "id": "pYBHYdAO2jnY"
      }
    },
    {
      "cell_type": "code",
      "source": [
        "num1 = float(input(\"enter first number:\"))\n",
        "operator = input(\"choose an operator (+,-,*,/,): \")\n",
        "num2 = float(input(\"enter the second number:\"))\n"
      ],
      "metadata": {
        "colab": {
          "base_uri": "https://localhost:8080/"
        },
        "id": "hvHcpSKx2xaU",
        "outputId": "011881dd-2641-4106-b487-6def7849a0e3"
      },
      "execution_count": null,
      "outputs": [
        {
          "name": "stdout",
          "output_type": "stream",
          "text": [
            "enter first number:25\n",
            "choose an operator (+,-,*,/,): +\n",
            "enter the second number:25\n"
          ]
        }
      ]
    },
    {
      "cell_type": "markdown",
      "source": [],
      "metadata": {
        "id": "l3a0Hhcb4jWj"
      }
    },
    {
      "cell_type": "markdown",
      "source": [
        "In[]\n",
        "#performing calculation\n",
        "\n",
        "\n"
      ],
      "metadata": {
        "id": "fBVilQSm3lNr"
      }
    },
    {
      "cell_type": "code",
      "source": [
        "if operator =='+':\n",
        "  result = num1 + num2\n",
        "elif operator =='-':\n",
        "  result = num1 - num2\n",
        "elif operator =='*':\n",
        "  result = num1 * num2\n",
        "elif operator =='/':\n",
        "  if num2 != 0:\n",
        "    result = num1 / num2\n",
        "  else:\n",
        "    result = \"Error! Division by zero is not allowed.\"\n",
        "else:\n",
        "  result = \"Invalid operator!\"\n",
        "\n",
        "if isinstance(result, float) and result.is_integer():\n",
        "    result = int(result)\n",
        "\n",
        "print(\"Result:\", result)\n"
      ],
      "metadata": {
        "colab": {
          "base_uri": "https://localhost:8080/"
        },
        "id": "kPay8p5I3-q3",
        "outputId": "95177ee2-45ad-457c-8666-80583eae2e21"
      },
      "execution_count": null,
      "outputs": [
        {
          "output_type": "stream",
          "name": "stdout",
          "text": [
            "Result: 50\n"
          ]
        }
      ]
    },
    {
      "cell_type": "markdown",
      "source": [
        "Grading system:\n"
      ],
      "metadata": {
        "id": "KtiT13Op5H_q"
      }
    },
    {
      "cell_type": "markdown",
      "source": [
        "In[]:\n"
      ],
      "metadata": {
        "id": "k-YSIFvb5NyM"
      }
    },
    {
      "cell_type": "code",
      "source": [
        "\n",
        "#taking user input for marks\n",
        "marks = float(input(\"enter your marks:\"))\n",
        "#assigning grades based on marks\n",
        "if marks >=90:\n",
        "  grade = \"A+\"\n",
        "  remarks = \"congratulation! your grade is(A+)\"\n",
        "elif marks >= 80:\n",
        "  grade = \"A\"\n",
        "  remarks = \"very good!your grade is (A)\"\n",
        "elif marks >= 70:\n",
        "    grade = \"B\"\n",
        "    remark = \"good! keep it up!your grade is (B)\"\n",
        "elif marks >=60:\n",
        "      grade = \"C\"\n",
        "      remarks = \"keep hardworking!your grade is (C)\"\n",
        "elif marks >= 40:\n",
        "        grade = \"D\"\n",
        "        remarks = \"work harder for next time!your grade is (D)\"\n",
        "else:\n",
        "  grade = \"F\"\n",
        "  remarks = \"Fail! Dont give up,work hard for success\"\n",
        "\n",
        "print(\"your grade is:\", grade)\n",
        "print(\"Remarks :\", remarks)\n",
        "\n",
        "\n"
      ],
      "metadata": {
        "colab": {
          "base_uri": "https://localhost:8080/"
        },
        "id": "PuYNb1sK5Pi9",
        "outputId": "46ff4b21-906d-4576-f868-32a16771b0fe"
      },
      "execution_count": null,
      "outputs": [
        {
          "output_type": "stream",
          "name": "stdout",
          "text": [
            "enter your marks:74\n",
            "your grade is: B\n",
            "Remarks : good! keep it up!your grade is (B)\n"
          ]
        }
      ]
    }
  ]
}