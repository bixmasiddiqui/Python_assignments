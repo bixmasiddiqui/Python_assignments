{
  "nbformat": 4,
  "nbformat_minor": 0,
  "metadata": {
    "colab": {
      "provenance": [],
      "authorship_tag": "ABX9TyO1WpREft+wf7rVh2lXLJja",
      "include_colab_link": true
    },
    "kernelspec": {
      "name": "python3",
      "display_name": "Python 3"
    },
    "language_info": {
      "name": "python"
    }
  },
  "cells": [
    {
      "cell_type": "markdown",
      "metadata": {
        "id": "view-in-github",
        "colab_type": "text"
      },
      "source": [
        "<a href=\"https://colab.research.google.com/github/bixmasiddiqui/Python_assignments/blob/main/assignment3.ipynb\" target=\"_parent\"><img src=\"https://colab.research.google.com/assets/colab-badge.svg\" alt=\"Open In Colab\"/></a>"
      ]
    },
    {
      "cell_type": "markdown",
      "source": [
        "Assignment 3 :\n",
        "Python Assignment List Tuples and Methods\n",
        "basic list operations\n",
        "1.Create a list of five numbers and append a new number to it. Print the updated list.\n",
        "\n"
      ],
      "metadata": {
        "id": "zS7LLqxiAvfg"
      }
    },
    {
      "cell_type": "markdown",
      "source": [
        "In[ ]:"
      ],
      "metadata": {
        "id": "1sjdGmMEBW53"
      }
    },
    {
      "cell_type": "code",
      "source": [
        "numbers = [1,2,3,4,5,6,7,8,9,]\n",
        "numbers.append(10)\n",
        "print(numbers)"
      ],
      "metadata": {
        "colab": {
          "base_uri": "https://localhost:8080/"
        },
        "id": "BiiUR2tVBLtl",
        "outputId": "5afd128d-f540-477c-8652-70007078675c"
      },
      "execution_count": null,
      "outputs": [
        {
          "output_type": "stream",
          "name": "stdout",
          "text": [
            "[1, 2, 3, 4, 5, 6, 7, 8, 9, 10]\n"
          ]
        }
      ]
    },
    {
      "cell_type": "markdown",
      "source": [
        "\n",
        "2.Extend a list [1, 2, 3] with another list [4, 5, 6]. Print the result."
      ],
      "metadata": {
        "id": "xxS8J8g_Bwvf"
      }
    },
    {
      "cell_type": "markdown",
      "source": [
        "In[]:"
      ],
      "metadata": {
        "id": "RQ-utleqBzOo"
      }
    },
    {
      "cell_type": "code",
      "source": [
        "list1 = [1,2,3]\n",
        "list2 = [4,5,6]\n",
        "list1.extend(list2)\n",
        "print(list1)"
      ],
      "metadata": {
        "colab": {
          "base_uri": "https://localhost:8080/"
        },
        "id": "0kFDeG40ByXc",
        "outputId": "14e1b380-3c7e-44b0-b36b-31d095a7bd48"
      },
      "execution_count": null,
      "outputs": [
        {
          "output_type": "stream",
          "name": "stdout",
          "text": [
            "[1, 2, 3, 4, 5, 6]\n"
          ]
        }
      ]
    },
    {
      "cell_type": "markdown",
      "source": [
        "\n",
        "3.Insert the string \"Python\" at index 2 in the list [\"Java\", \"C++\", \"JavaScript\", \"Ruby\"]."
      ],
      "metadata": {
        "id": "DEOS1vthCGxK"
      }
    },
    {
      "cell_type": "markdown",
      "source": [
        "In []:"
      ],
      "metadata": {
        "id": "hjovdRzNCMxB"
      }
    },
    {
      "cell_type": "code",
      "source": [
        "languages = [\"Java\", \"C++\", \"JavaScript\", \"Ruby\"]\n",
        "languages.insert(2, \"Python\")\n",
        "print(languages)"
      ],
      "metadata": {
        "colab": {
          "base_uri": "https://localhost:8080/"
        },
        "id": "ma4MXPQvCYSb",
        "outputId": "6d7c799c-abd7-4725-8767-0bb758757cbd"
      },
      "execution_count": null,
      "outputs": [
        {
          "output_type": "stream",
          "name": "stdout",
          "text": [
            "['Java', 'C++', 'Python', 'JavaScript', 'Ruby']\n"
          ]
        }
      ]
    },
    {
      "cell_type": "markdown",
      "source": [
        "\n",
        "4.Remove the first occurrence of the number 10 from the list [10, 20, 30, 10, 40]."
      ],
      "metadata": {
        "id": "PloV5jYiCcYy"
      }
    },
    {
      "cell_type": "markdown",
      "source": [
        "In[]:"
      ],
      "metadata": {
        "id": "y22gmHd2CfGv"
      }
    },
    {
      "cell_type": "code",
      "source": [
        "numbers_list = [10, 20, 30, 10, 40]\n",
        "numbers_list.remove (10)\n",
        "print(numbers_list)"
      ],
      "metadata": {
        "colab": {
          "base_uri": "https://localhost:8080/"
        },
        "id": "hGe-TohmCqXM",
        "outputId": "5778d34c-bbd4-4a65-f317-6f6673ce9f54"
      },
      "execution_count": null,
      "outputs": [
        {
          "output_type": "stream",
          "name": "stdout",
          "text": [
            "[20, 30, 10, 40]\n"
          ]
        }
      ]
    },
    {
      "cell_type": "markdown",
      "source": [
        "\n",
        "5.Use the pop() method to remove the last element from [100, 200, 300, 400] and print the modified list."
      ],
      "metadata": {
        "id": "Ivblo5P0CtKG"
      }
    },
    {
      "cell_type": "markdown",
      "source": [
        "In[]:"
      ],
      "metadata": {
        "id": "SSfB9UH9CvNN"
      }
    },
    {
      "cell_type": "code",
      "source": [
        "pop_list = [100, 200, 300, 400]\n",
        "pop_list.pop()\n",
        "print(pop_list)\n",
        "\n",
        "[100, 200, 300]"
      ],
      "metadata": {
        "colab": {
          "base_uri": "https://localhost:8080/"
        },
        "id": "oWITkkS2CxCY",
        "outputId": "9d75f19a-c4ac-429d-cb2b-82f95229e576"
      },
      "execution_count": null,
      "outputs": [
        {
          "output_type": "stream",
          "name": "stdout",
          "text": [
            "[100, 200, 300]\n"
          ]
        },
        {
          "output_type": "execute_result",
          "data": {
            "text/plain": [
              "[100, 200, 300]"
            ]
          },
          "metadata": {},
          "execution_count": 43
        }
      ]
    },
    {
      "cell_type": "markdown",
      "source": [
        "Intermediat List Operations"
      ],
      "metadata": {
        "id": "rtCXt_0oC9-d"
      }
    },
    {
      "cell_type": "markdown",
      "source": [
        "6.Count how many times the number 5 appears in the list [5, 10, 5, 20, 5, 30]."
      ],
      "metadata": {
        "id": "DmS2RCY4DLE0"
      }
    },
    {
      "cell_type": "markdown",
      "source": [
        "In[]:"
      ],
      "metadata": {
        "id": "3QPIxZIkDEtf"
      }
    },
    {
      "cell_type": "code",
      "source": [
        "nums_list =[5, 10, 5, 20, 5, 30]\n",
        "print(nums_list.count(5))\n",
        "\n"
      ],
      "metadata": {
        "colab": {
          "base_uri": "https://localhost:8080/"
        },
        "id": "50edzQH2DI6l",
        "outputId": "7652d893-2839-4cc2-b652-7946db16f5a4"
      },
      "execution_count": null,
      "outputs": [
        {
          "output_type": "stream",
          "name": "stdout",
          "text": [
            "3\n"
          ]
        }
      ]
    },
    {
      "cell_type": "markdown",
      "source": [
        "\n",
        "7.Sort the list [9, 1, 8, 3, 5] in ascending and descending order."
      ],
      "metadata": {
        "id": "jiVex1i_DgP1"
      }
    },
    {
      "cell_type": "markdown",
      "source": [
        "In[]:"
      ],
      "metadata": {
        "id": "6dnBb3NSDiTl"
      }
    },
    {
      "cell_type": "code",
      "source": [
        "sort_list =[5,10,60,80]\n",
        "sort_list_asc = (sorted(sort_list))#for ascending order\n",
        "print(sort_list)"
      ],
      "metadata": {
        "colab": {
          "base_uri": "https://localhost:8080/"
        },
        "id": "UrbW9JrGDj_C",
        "outputId": "c61217ab-ee74-4bc2-c1a7-40cade404d9e"
      },
      "execution_count": null,
      "outputs": [
        {
          "output_type": "stream",
          "name": "stdout",
          "text": [
            "[5, 10, 60, 80]\n"
          ]
        }
      ]
    },
    {
      "cell_type": "code",
      "source": [
        "sort_list = [50,70,30,20,100]\n",
        "sort_list_desc = (sorted(sort_list, reverse =True))#for descending order\n",
        "print(sort_list_desc)"
      ],
      "metadata": {
        "colab": {
          "base_uri": "https://localhost:8080/"
        },
        "id": "S7EhnVfyEO9R",
        "outputId": "dbd49a08-c9d2-44bb-82cb-6c0174f1e6a1"
      },
      "execution_count": null,
      "outputs": [
        {
          "output_type": "stream",
          "name": "stdout",
          "text": [
            "[100, 70, 50, 30, 20]\n"
          ]
        }
      ]
    },
    {
      "cell_type": "markdown",
      "source": [
        "8.Reverse the list [“apple”, “banana”, “cherry”] using the reverse() method."
      ],
      "metadata": {
        "id": "LTiB7QRFEtfk"
      }
    },
    {
      "cell_type": "markdown",
      "source": [
        "In[]:"
      ],
      "metadata": {
        "id": "LDy0AIW5Evmf"
      }
    },
    {
      "cell_type": "code",
      "source": [
        "fruits = [\"apple\", \"banana\", \"cherry\"]\n",
        "fruits.reverse()\n",
        "print(fruits)"
      ],
      "metadata": {
        "colab": {
          "base_uri": "https://localhost:8080/"
        },
        "id": "lu8iixRcExk7",
        "outputId": "124c437a-b27b-4329-df1e-c8aa7668e58a"
      },
      "execution_count": null,
      "outputs": [
        {
          "output_type": "stream",
          "name": "stdout",
          "text": [
            "['cherry', 'banana', 'apple']\n"
          ]
        }
      ]
    },
    {
      "cell_type": "markdown",
      "source": [
        "\n",
        "9.Create a copy of the list [1, 2, 3, 4, 5] and store it in another variable. Modify the copied list and print both lists."
      ],
      "metadata": {
        "id": "Nm_R-cZmFJve"
      }
    },
    {
      "cell_type": "markdown",
      "source": [
        "In[]:\n"
      ],
      "metadata": {
        "id": "5v2mJIrfFKtV"
      }
    },
    {
      "cell_type": "code",
      "source": [
        "original_list = [1,2,3,4,5]\n",
        "list2 = original_list.copy()\n",
        "\n",
        "print (list2)"
      ],
      "metadata": {
        "colab": {
          "base_uri": "https://localhost:8080/"
        },
        "id": "4c4T418lFRwi",
        "outputId": "4a5916a8-50ab-4d67-d2ed-f6222a4a30b2"
      },
      "execution_count": null,
      "outputs": [
        {
          "output_type": "stream",
          "name": "stdout",
          "text": [
            "[1, 2, 3, 4, 5]\n"
          ]
        }
      ]
    },
    {
      "cell_type": "code",
      "source": [
        "original_list = [1,2,3,4,5]\n",
        "list2 = original_list.copy()\n",
        "list2.append(6,)\n",
        "print(original_list)\n",
        "\n",
        "print (list2)"
      ],
      "metadata": {
        "colab": {
          "base_uri": "https://localhost:8080/"
        },
        "id": "2_QMEkBeF485",
        "outputId": "3de87567-890c-4b71-fb60-561ddca6183c"
      },
      "execution_count": null,
      "outputs": [
        {
          "output_type": "stream",
          "name": "stdout",
          "text": [
            "[1, 2, 3, 4, 5]\n",
            "[1, 2, 3, 4, 5, 6]\n"
          ]
        }
      ]
    },
    {
      "cell_type": "markdown",
      "source": [
        "\n",
        "10.Clear all elements from a list [“hello”, “world”, “python”] using the clear() method."
      ],
      "metadata": {
        "id": "hm3G7Bn_GOQa"
      }
    },
    {
      "cell_type": "markdown",
      "source": [
        "In[]:"
      ],
      "metadata": {
        "id": "Xf9LS0-OGXHE"
      }
    },
    {
      "cell_type": "code",
      "source": [
        "words = [\"hello\", \"world\", \"python\"]\n",
        "words.clear()\n",
        "print(words)"
      ],
      "metadata": {
        "colab": {
          "base_uri": "https://localhost:8080/"
        },
        "id": "3L5eGfEyGWH-",
        "outputId": "83afc498-bdc5-4dde-ca14-af7404a54e5b"
      },
      "execution_count": null,
      "outputs": [
        {
          "output_type": "stream",
          "name": "stdout",
          "text": [
            "[]\n"
          ]
        }
      ]
    },
    {
      "cell_type": "markdown",
      "source": [
        "Tuple_Based Questions"
      ],
      "metadata": {
        "id": "c_5fhfxBGejf"
      }
    },
    {
      "cell_type": "markdown",
      "source": [
        "11.Create a tuple with 5 different fruits and print the third fruit."
      ],
      "metadata": {
        "id": "hoUyOSieGjwA"
      }
    },
    {
      "cell_type": "markdown",
      "source": [
        "In[]:"
      ],
      "metadata": {
        "id": "kxPP64-FGs0Q"
      }
    },
    {
      "cell_type": "code",
      "source": [
        "fruits_tuples = (\"apple\", \"pineapple\", \"strawberry\", \"cherry\",\"grapes\")\n",
        "print(fruits_tuples[2])"
      ],
      "metadata": {
        "colab": {
          "base_uri": "https://localhost:8080/"
        },
        "id": "_1ii17c8Gucw",
        "outputId": "7ee6a1af-d0f9-424e-f85e-95341fcd5423"
      },
      "execution_count": null,
      "outputs": [
        {
          "output_type": "stream",
          "name": "stdout",
          "text": [
            "strawberry\n"
          ]
        }
      ]
    },
    {
      "cell_type": "markdown",
      "source": [
        "12.Convert the tuple (10, 20, 30, 40, 50) into a list, remove the number 30, and convert it back into a tuple."
      ],
      "metadata": {
        "id": "GJFFs8aZG_rc"
      }
    },
    {
      "cell_type": "markdown",
      "source": [
        "In[]:"
      ],
      "metadata": {
        "id": "7H-IJIYDHFxT"
      }
    },
    {
      "cell_type": "code",
      "source": [
        "num_tuple = (10,20,30,40,50)\n",
        "num_list = list(num_tuple)\n",
        "num_list.remove(30)\n",
        "num_tuple = tuple(num_list)\n",
        "print(num_tuple)"
      ],
      "metadata": {
        "colab": {
          "base_uri": "https://localhost:8080/"
        },
        "id": "Q2yiITB8HIt-",
        "outputId": "a89b4fa1-23f7-4fe5-eae0-a103dc6a4f4d"
      },
      "execution_count": null,
      "outputs": [
        {
          "output_type": "stream",
          "name": "stdout",
          "text": [
            "(10, 20, 40, 50)\n"
          ]
        }
      ]
    },
    {
      "cell_type": "markdown",
      "source": [
        "13.Try to append an element to the tuple (“A”, “B”, “C”). What happens? How can you modify a tuple indirectly?"
      ],
      "metadata": {
        "id": "RroAFZVxHxdW"
      }
    },
    {
      "cell_type": "markdown",
      "source": [
        "In[]:"
      ],
      "metadata": {
        "id": "72DRr8BvH3lu"
      }
    },
    {
      "cell_type": "code",
      "source": [
        "tuple_element = (\"A\",\"B\",\"C\")\n",
        "lst = list(tuple_element)\n",
        "lst.append(\"D\" )\n",
        "tuple_element = tuple(lst)\n",
        "print (tuple_element)"
      ],
      "metadata": {
        "colab": {
          "base_uri": "https://localhost:8080/"
        },
        "id": "9qoXy2sFH5LL",
        "outputId": "718c2cba-2bbd-49f9-efee-a65a26076e72"
      },
      "execution_count": null,
      "outputs": [
        {
          "output_type": "stream",
          "name": "stdout",
          "text": [
            "('A', 'B', 'C', 'D')\n"
          ]
        }
      ]
    },
    {
      "cell_type": "markdown",
      "source": [
        "14.Unpack the tuple (100, 200, 300) into three separate variables and print them."
      ],
      "metadata": {
        "id": "EieJOMypJjLM"
      }
    },
    {
      "cell_type": "markdown",
      "source": [
        "In[]:"
      ],
      "metadata": {
        "id": "osBtXzWzJmhj"
      }
    },
    {
      "cell_type": "code",
      "source": [
        "tuple =(100,200,300)\n",
        "a,b,c = (tuple)\n",
        "print(a,b,c)"
      ],
      "metadata": {
        "colab": {
          "base_uri": "https://localhost:8080/"
        },
        "id": "CclCm4vzJn-G",
        "outputId": "19d86152-b611-4ca4-850a-a4717965dcac"
      },
      "execution_count": null,
      "outputs": [
        {
          "output_type": "stream",
          "name": "stdout",
          "text": [
            "100 200 300\n"
          ]
        }
      ]
    },
    {
      "cell_type": "markdown",
      "source": [
        "15.Count the occurrences of 7 in the tuple (7, 1, 7, 3, 7, 5)."
      ],
      "metadata": {
        "id": "bTpycCqtJ6R_"
      }
    },
    {
      "cell_type": "markdown",
      "source": [
        "In[]:"
      ],
      "metadata": {
        "id": "O_JnjAtWJ82X"
      }
    },
    {
      "cell_type": "code",
      "source": [
        "count_tuple = (7, 1, 7, 3, 7, 5,5)\n",
        "print(count_tuple.count(7))"
      ],
      "metadata": {
        "colab": {
          "base_uri": "https://localhost:8080/"
        },
        "id": "rs_lw5UlJ-UT",
        "outputId": "9952d877-8f3b-484a-c5d0-b9ce2cfb0f9f"
      },
      "execution_count": null,
      "outputs": [
        {
          "output_type": "stream",
          "name": "stdout",
          "text": [
            "3\n"
          ]
        }
      ]
    },
    {
      "cell_type": "markdown",
      "source": [
        "Advanced Problems"
      ],
      "metadata": {
        "id": "mo66EZsBKQCw"
      }
    },
    {
      "cell_type": "markdown",
      "source": [
        "16.Write a function that takes a list and returns a new list with all even numbers removed."
      ],
      "metadata": {
        "id": "sU2Scx_vKUBF"
      }
    },
    {
      "cell_type": "markdown",
      "source": [
        "In[]:"
      ],
      "metadata": {
        "id": "PPJFVFahKWK4"
      }
    },
    {
      "cell_type": "code",
      "source": [
        "def remove_even_numbers(list):\n",
        "  return [num for num in list if num % 2 != 0]\n",
        "\n",
        "numbers = [1, 2, 3, 4, 5, 6, 7, 8, 9, 10]\n",
        "print(remove_even_numbers(numbers))\n"
      ],
      "metadata": {
        "colab": {
          "base_uri": "https://localhost:8080/"
        },
        "id": "PpaxNpCjLbMt",
        "outputId": "9c9470a0-814b-408a-8e12-8e7d048366b7"
      },
      "execution_count": null,
      "outputs": [
        {
          "output_type": "stream",
          "name": "stdout",
          "text": [
            "[1, 3, 5, 7, 9]\n"
          ]
        }
      ]
    },
    {
      "cell_type": "markdown",
      "source": [
        "17.Create a function that accepts a list and returns a new list with elements sorted in descending order without using the sort() method."
      ],
      "metadata": {
        "id": "7SwqIQncLeu5"
      }
    },
    {
      "cell_type": "markdown",
      "source": [
        "In[]:"
      ],
      "metadata": {
        "id": "u2hPLQUZLjYG"
      }
    },
    {
      "cell_type": "code",
      "source": [
        "def descending_sort(list):\n",
        "  return sorted(list, reverse=True)\n",
        "\n",
        "numbers = [7, 8, 6, 5, 6]\n",
        "print(descending_sort(numbers))"
      ],
      "metadata": {
        "colab": {
          "base_uri": "https://localhost:8080/"
        },
        "id": "nxjicxQWLxSy",
        "outputId": "5ea4a6e8-ca2c-492d-9ee6-e475e918d358"
      },
      "execution_count": null,
      "outputs": [
        {
          "output_type": "stream",
          "name": "stdout",
          "text": [
            "[8, 7, 6, 6, 5]\n"
          ]
        }
      ]
    },
    {
      "cell_type": "markdown",
      "source": [
        "def descending_sort(list):\n",
        "  return sorted(list, reverse=True)\n",
        "\n",
        "numbers = [7, 8, 1, 4, 5]\n",
        "print(descending_sort(numbers))"
      ],
      "metadata": {
        "id": "CAoqCgtDL-6V"
      }
    },
    {
      "cell_type": "markdown",
      "source": [
        "In[]:"
      ],
      "metadata": {
        "id": "pzFYCl56MA9u"
      }
    },
    {
      "cell_type": "code",
      "source": [
        "def remove_duplicates(lst):\n",
        "  return list(set(lst))\n",
        "\n",
        "num_list = [1, 2, 2, 3, 4, 4, 5]\n",
        "print(remove_duplicates(num_list))"
      ],
      "metadata": {
        "colab": {
          "base_uri": "https://localhost:8080/"
        },
        "id": "8qsFxhktMCp3",
        "outputId": "2b41f609-8ed2-4e42-e98b-e844572f0e55"
      },
      "execution_count": null,
      "outputs": [
        {
          "output_type": "stream",
          "name": "stdout",
          "text": [
            "[1, 2, 3, 4, 5]\n"
          ]
        }
      ]
    },
    {
      "cell_type": "markdown",
      "source": [
        "19.Given a tuple of names (“Alice”, “Bob”, “Charlie”, “Alice”, “David”), convert it into a list, remove duplicates, and convert it back to a tuple."
      ],
      "metadata": {
        "id": "ls19WBC-MHkG"
      }
    },
    {
      "cell_type": "markdown",
      "source": [
        "In[]:"
      ],
      "metadata": {
        "id": "-T05x_KWMK5v"
      }
    },
    {
      "cell_type": "code",
      "source": [
        "names_tuple = (\"Alice\", \"Bob\", \"Charlie\", \"Alice\", \"David\")\n",
        "names_list = list(set(names_tuple))\n",
        "names_tuple = (names_list)\n",
        "print(names_tuple)"
      ],
      "metadata": {
        "colab": {
          "base_uri": "https://localhost:8080/"
        },
        "id": "3MySG3saMMr6",
        "outputId": "5b4f6eed-9a7c-4724-c12e-3fb36a5142f7"
      },
      "execution_count": null,
      "outputs": [
        {
          "output_type": "stream",
          "name": "stdout",
          "text": [
            "['Charlie', 'Bob', 'Alice', 'David']\n"
          ]
        }
      ]
    },
    {
      "cell_type": "markdown",
      "source": [
        "20.Create a program that takes a list of mixed data types (int, str, float) and separates integers into one list, strings into another, and floats into another."
      ],
      "metadata": {
        "id": "_6Q0CR5RM9uy"
      }
    },
    {
      "cell_type": "markdown",
      "source": [
        "In[]:"
      ],
      "metadata": {
        "id": "rXdql7xaNAn6"
      }
    },
    {
      "cell_type": "code",
      "source": [
        "def separate_types(mixed_list):\n",
        "  int_list = [x for x in mixed_list if isinstance(x, int)]\n",
        "  str_list = [x for x in mixed_list if isinstance(x, str)]\n",
        "  float_list = [x for x in mixed_list if isinstance(x, float)]\n",
        "  return int_list, str_list, float_list\n",
        "\n",
        "mixed_data = [1, \"hello\", 2.5, 3, \"world\", 4.0, \"Python\", 5]\n",
        "integers, strings, floats = separate_types(mixed_data)\n",
        "print(integers)\n",
        "print(strings)\n",
        "print(floats)"
      ],
      "metadata": {
        "colab": {
          "base_uri": "https://localhost:8080/"
        },
        "id": "EWhpJ3vvNCQI",
        "outputId": "29809dbf-f378-4b5a-e8f7-f5cdb5e29601"
      },
      "execution_count": null,
      "outputs": [
        {
          "output_type": "stream",
          "name": "stdout",
          "text": [
            "[1, 3, 5]\n",
            "['hello', 'world', 'Python']\n",
            "[2.5, 4.0]\n"
          ]
        }
      ]
    }
  ]
}