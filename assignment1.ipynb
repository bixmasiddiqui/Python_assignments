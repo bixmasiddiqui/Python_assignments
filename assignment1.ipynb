{
  "nbformat": 4,
  "nbformat_minor": 0,
  "metadata": {
    "colab": {
      "provenance": [],
      "authorship_tag": "ABX9TyO/5Ldy0XjNKkqGKmh5tSaw",
      "include_colab_link": true
    },
    "kernelspec": {
      "name": "python3",
      "display_name": "Python 3"
    },
    "language_info": {
      "name": "python"
    }
  },
  "cells": [
    {
      "cell_type": "markdown",
      "metadata": {
        "id": "view-in-github",
        "colab_type": "text"
      },
      "source": [
        "<a href=\"https://colab.research.google.com/github/bixmasiddiqui/assignment-02/blob/main/assignment1.ipynb\" target=\"_parent\"><img src=\"https://colab.research.google.com/assets/colab-badge.svg\" alt=\"Open In Colab\"/></a>"
      ]
    },
    {
      "cell_type": "markdown",
      "source": [
        "PYTHON ASSIGNMENT:01"
      ],
      "metadata": {
        "id": "gILoMlpTo-BB"
      }
    },
    {
      "cell_type": "markdown",
      "source": [
        "Understanding String Literals"
      ],
      "metadata": {
        "id": "NrkSBh9ipE0p"
      }
    },
    {
      "cell_type": "markdown",
      "source": [
        "1.Create three different string using each type of quotation:\n",
        ".Single Quotes ('')\n",
        ".Double Quotes (\"\")\n",
        ".Triple Quotes (\"\"\")"
      ],
      "metadata": {
        "id": "qySG1j5TF-7H"
      }
    },
    {
      "cell_type": "markdown",
      "source": [
        "In[]:\n",
        "#Single Quotes\n"
      ],
      "metadata": {
        "id": "sRkPzBPmGqOx"
      }
    },
    {
      "cell_type": "code",
      "source": [
        "string1 = 'My name is bismaimran'\n",
        "print(string1)"
      ],
      "metadata": {
        "colab": {
          "base_uri": "https://localhost:8080/"
        },
        "id": "3U5MkSQ_I8sV",
        "outputId": "05db93a7-6661-4a0b-83fd-d39810d0106d"
      },
      "execution_count": null,
      "outputs": [
        {
          "output_type": "stream",
          "name": "stdout",
          "text": [
            "My name is bismaimran\n"
          ]
        }
      ]
    },
    {
      "cell_type": "markdown",
      "source": [
        "In[]:\n",
        "#Double Quotes"
      ],
      "metadata": {
        "id": "PaZvOGEmJTR9"
      }
    },
    {
      "cell_type": "code",
      "source": [
        "string2 = \"I live in Karachi\"\n",
        "print(string2)"
      ],
      "metadata": {
        "colab": {
          "base_uri": "https://localhost:8080/"
        },
        "id": "23rT-voOJa__",
        "outputId": "4d389d68-fc03-4977-f43b-0b5b8391a340"
      },
      "execution_count": null,
      "outputs": [
        {
          "output_type": "stream",
          "name": "stdout",
          "text": [
            "I live in Karachi\n"
          ]
        }
      ]
    },
    {
      "cell_type": "markdown",
      "source": [
        "In[]:\n",
        "#Triple Quotes"
      ],
      "metadata": {
        "id": "bnjVbf5ZJu-Z"
      }
    },
    {
      "cell_type": "code",
      "source": [
        "string3 = \"\"\"\n",
        "hey! I am a frontend developer. I am doing Artificial Intelligence,Web 3.0& Metaverse course at Governor House.I love my coding journey.\n",
        "\"\"\"\n",
        "print (string3)"
      ],
      "metadata": {
        "colab": {
          "base_uri": "https://localhost:8080/"
        },
        "id": "oy8ZI2KBJ2ZV",
        "outputId": "6bab5b3c-2976-49e8-e511-81e643f4624d"
      },
      "execution_count": null,
      "outputs": [
        {
          "output_type": "stream",
          "name": "stdout",
          "text": [
            "\n",
            "hey! I am a frontend developer. I am doing Artificial Intelligence,Web 3.0& Metaverse course at Governor House.I love my coding journey.\n",
            "\n"
          ]
        }
      ]
    },
    {
      "cell_type": "markdown",
      "source": [
        "\n",
        "2.Explain in your own words: What is the advantage of each type of quotation?\n",
        "\n",
        "In Python, there are three type of quotation. Single ('')\n",
        "\n",
        "Double (\"\")\n",
        "\n",
        "Triple(\"\"\"or\"\"\")\n",
        "\n",
        "Each types has its own advantages"
      ],
      "metadata": {
        "id": "im7DOjuqKz13"
      }
    },
    {
      "cell_type": "markdown",
      "source": [
        "Single Quotes('')\n",
        "\n",
        "Advantages:\n",
        "\n",
        "1.Used to define string values.\n",
        "\n",
        "2.Keeps code clean and simple.\n",
        "\n",
        "Double Quotes(\"\")\n",
        "\n",
        "Advantages:\n",
        "\n",
        "1.Standard in most programming languages.\n",
        "\n",
        "2.Allow using single quotes inside string.\n",
        "\n",
        "Triple Quotes(\"\"\"or\"\"\")\n",
        "\n",
        "Advantages:\n",
        "\n",
        "1.Used for multilines string.\n",
        "\n",
        "2.Commonly used for documentation strings in python."
      ],
      "metadata": {
        "id": "9ZjbrGxoK-bn"
      }
    },
    {
      "cell_type": "markdown",
      "source": [
        "3.Write a string that contains both single and double quotes inside its."
      ],
      "metadata": {
        "id": "kzwBdywMLGhF"
      }
    },
    {
      "cell_type": "markdown",
      "source": [
        "In []:"
      ],
      "metadata": {
        "id": "iTZlWjCQLe2W"
      }
    },
    {
      "cell_type": "code",
      "source": [
        "text = \"\"\"He said, \"Amna is calling you\".\"\"\"\"\"\n",
        "print(text)"
      ],
      "metadata": {
        "colab": {
          "base_uri": "https://localhost:8080/"
        },
        "id": "Hpexral0LiQy",
        "outputId": "bb957ea2-f8c4-4619-f8d1-cbb1a28ff1ae"
      },
      "execution_count": null,
      "outputs": [
        {
          "output_type": "stream",
          "name": "stdout",
          "text": [
            "He said, \"Amna is calling you\".\n"
          ]
        }
      ]
    },
    {
      "cell_type": "markdown",
      "source": [
        "4.Create a multi-line string using triple quotes that describe your favorite hobby."
      ],
      "metadata": {
        "id": "9o-TbEEUMO_D"
      }
    },
    {
      "cell_type": "markdown",
      "source": [
        "In[]:"
      ],
      "metadata": {
        "id": "V-eF1L5rMdex"
      }
    },
    {
      "cell_type": "code",
      "source": [
        "hobby = \"\"\"my hobby is cooking. I like to cook yummiest food and also like to try new new recipes.I also enjoy coding aswell  \"\"\"\n",
        "print (hobby)"
      ],
      "metadata": {
        "colab": {
          "base_uri": "https://localhost:8080/"
        },
        "id": "DDfNl3Xz36Vo",
        "outputId": "50afb88c-89e7-48ea-e6e3-c98152b24324"
      },
      "execution_count": null,
      "outputs": [
        {
          "output_type": "stream",
          "name": "stdout",
          "text": [
            "my hobby is cooking. I like to cook yummiest food and also like to try new new recipes.I also enjoy coding aswell  \n"
          ]
        }
      ]
    },
    {
      "cell_type": "markdown",
      "source": [
        "Part3 : F-strings\n",
        "\n",
        "\n",
        "1.Create variables for:\n",
        "\n",
        "o Your name\n",
        "\n",
        "o Your age\n",
        "\n",
        "o Your favorite programming language\n",
        "\n"
      ],
      "metadata": {
        "id": "2G1pewFN6L6i"
      }
    },
    {
      "cell_type": "markdown",
      "source": [
        "In[]:\n",
        "#create variables\n"
      ],
      "metadata": {
        "id": "NUrt8Dlr6dVO"
      }
    },
    {
      "cell_type": "code",
      "source": [
        "name = \"bisma siddiqui\"\n",
        "age = 19\n",
        "favourite_language = \"python\"\n",
        "print(\"Name:\", name)\n",
        "print(\"age:\" , age)\n",
        "print(\"favourite_language:\", favourite_language)"
      ],
      "metadata": {
        "colab": {
          "base_uri": "https://localhost:8080/"
        },
        "id": "hAQyc4WN7KoF",
        "outputId": "4222dd7a-f528-4fe4-8fc1-14978f2c787e"
      },
      "execution_count": null,
      "outputs": [
        {
          "output_type": "stream",
          "name": "stdout",
          "text": [
            "Name: bisma siddiqui\n",
            "age: 19\n",
            "favourite_language: python\n"
          ]
        }
      ]
    },
    {
      "cell_type": "markdown",
      "source": [
        "Then use f-strings to create these sentences:\n",
        "\n",
        "o \"My name is {your_name} and I am {your_age} years old.\"\n",
        "\n",
        "o \"I enjoy programming in {language}, it's my favorite!\"\n",
        "\n",
        "o Create a math expression inside an f-string: \"In 5 years, I will be {age + 5} years old.\""
      ],
      "metadata": {
        "id": "fVdwbE0t7uJC"
      }
    },
    {
      "cell_type": "markdown",
      "source": [
        "In[]\n",
        "#Creating variables"
      ],
      "metadata": {
        "id": "tVUFZK267vZR"
      }
    },
    {
      "cell_type": "code",
      "source": [
        "name = \"bisma siddiqui\"\n",
        "age = 19\n",
        "favourite_language = \"python\"\n",
        "\n",
        "#using f string\n",
        "sentence1 = f\"My name is {name} and I am {age} years old.\"\n",
        "sentence2 = f\"I enjoy programming in {favourite_language}, it's my favorite!\"\n",
        "sentence3 = f\"In 5 years, I will be {age + 5} years old.\"\n",
        "print(sentence1)\n",
        "print(sentence2)\n",
        "print(sentence3)\n"
      ],
      "metadata": {
        "colab": {
          "base_uri": "https://localhost:8080/"
        },
        "id": "_AEy5e-b70yE",
        "outputId": "fa818921-9380-4b78-fd3e-617d27f86b35"
      },
      "execution_count": null,
      "outputs": [
        {
          "output_type": "stream",
          "name": "stdout",
          "text": [
            "My name is bisma siddiqui and I am 19 years old.\n",
            "I enjoy programming in python, it's my favorite!\n",
            "In 5 years, I will be 24 years old.\n"
          ]
        }
      ]
    },
    {
      "cell_type": "markdown",
      "source": [
        "Part4 : Combining string methods with f_strings\n",
        "\n",
        "\n",
        "Create a program that:\n",
        "\n",
        "1.Asks for user input about their first name, last name, and birth year\n",
        "\n",
        "2.Uses string methods to properly capitalize their name\n",
        "\n",
        "3.Uses f-strings to create a profile message: \"Profile: {First Last}, Age: {calculated age}, Username: {first initial + last name + birth year}\""
      ],
      "metadata": {
        "id": "2pOll74b82s6"
      }
    },
    {
      "cell_type": "markdown",
      "source": [
        "In[]:\n",
        "#for user input"
      ],
      "metadata": {
        "id": "BIutFpsB9J7x"
      }
    },
    {
      "cell_type": "code",
      "source": [
        "\n",
        "first_name = input(\"Enter your name: \").strip().capitalize()\n",
        "last_name = input(\"Enter your last name: \").strip().capitalize()\n",
        "birth_year = input(\"Enter your birth year: \").strip()\n",
        "\n",
        "#Calculating age\n",
        "current_year = 2025\n",
        "age = current_year -int(birth_year)\n",
        "\n",
        "#Creating user\n",
        "username = f\"{first_name[0].lower()}{last_name.lower()}{birth_year}\"\n",
        "\n",
        "#Create the profile message using f-string\n",
        "profile_message = f\"Profile: {first_name} {last_name}, Age: {age}, Username: {username}\"\n",
        "\n",
        "print(profile_message)"
      ],
      "metadata": {
        "colab": {
          "base_uri": "https://localhost:8080/"
        },
        "id": "Hr4nksGf9OaQ",
        "outputId": "23ce2255-3d9d-4ad7-e47b-c636a3876741"
      },
      "execution_count": null,
      "outputs": [
        {
          "output_type": "stream",
          "name": "stdout",
          "text": [
            "Enter your name: bisma\n",
            "Enter your last name: siddiqui\n",
            "Enter your birth year: 2005\n",
            "Profile: Bisma Siddiqui, Age: 20, Username: bsiddiqui2005\n"
          ]
        }
      ]
    }
  ]
}